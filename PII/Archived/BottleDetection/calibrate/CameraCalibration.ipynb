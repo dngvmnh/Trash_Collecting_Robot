{
  "cells": [
    {
      "cell_type": "code",
      "execution_count": null,
      "metadata": {
        "id": "nbnD22313iLs"
      },
      "outputs": [],
      "source": [
        "# This code is adapted from: https://github.com/EveryWhereLab/camera-calibration-using-opencv-python\n",
        "\n",
        "# Import libraries\n",
        "from matplotlib import pyplot as plt\n",
        "import numpy as np\n",
        "import cv2 as cv\n",
        "import glob\n",
        "import yaml"
      ]
    },
    {
      "cell_type": "code",
      "execution_count": null,
      "metadata": {
        "id": "8cAXFXON3iLu"
      },
      "outputs": [],
      "source": [
        "images = [r'C:\\Users\\ADMIN\\Documents\\myfolder\\GitHub\\PII-Robot\\BottleDetection\\images\\image0.jpg', \n",
        "          r'C:\\Users\\ADMIN\\Documents\\myfolder\\GitHub\\PII-Robot\\BottleDetection\\images\\image1.jpg',\n",
        "          r'C:\\Users\\ADMIN\\Documents\\myfolder\\GitHub\\PII-Robot\\BottleDetection\\images\\image2.jpg',\n",
        "          r'C:\\Users\\ADMIN\\Documents\\myfolder\\GitHub\\PII-Robot\\BottleDetection\\images\\image3.jpg',\n",
        "          r'C:\\Users\\ADMIN\\Documents\\myfolder\\GitHub\\PII-Robot\\BottleDetection\\images\\image4.jpg',\n",
        "          r'C:\\Users\\ADMIN\\Documents\\myfolder\\GitHub\\PII-Robot\\BottleDetection\\images\\image5.jpg']\n",
        "print(images)"
      ]
    },
    {
      "cell_type": "markdown",
      "metadata": {
        "id": "pD4WncYk51zb"
      },
      "source": [
        "The below code is a Python script for camera calibration using a chessboard pattern. It reads a set of images containing a chessboard pattern, detects the corners of the chessboard in each image, and stores the corresponding 3D object points and 2D image points. These points can then be used to calibrate the camera and obtain the camera matrix and distortion coefficients, which can be saved to a file. The code also draws the chessboard corners and the four outer corners of the chessboard on each image for visualization purposes."
      ]
    },
    {
      "cell_type": "code",
      "execution_count": null,
      "metadata": {
        "id": "KW5HDoz53iLu",
        "outputId": "03e07398-eae5-4dec-8133-c5018b1ee19d"
      },
      "outputs": [],
      "source": [
        "# Define the number of corners in the chessboard pattern\n",
        "CHESSBOARD_CORNER_NUM_X = 9\n",
        "CHESSBOARD_CORNER_NUM_Y = 6\n",
        "\n",
        "# Define the output file for the camera parameters\n",
        "CAMERA_PARAMETERS_OUTPUT_FILE = \"cam1.yaml\"\n",
        "\n",
        "# Define the termination criteria for corner detection\n",
        "criteria = (cv.TERM_CRITERIA_EPS + cv.TERM_CRITERIA_MAX_ITER, 30, 0.001)\n",
        "\n",
        "# Prepare object points, like (0,0,0), (1,0,0), (2,0,0) ....,(8,5,0)\n",
        "# The Z-coordinate is 0 because the chessboard is assumed to lie in the XY plane\n",
        "objp = np.zeros((CHESSBOARD_CORNER_NUM_X*CHESSBOARD_CORNER_NUM_Y,3), np.float32)\n",
        "objp[:,:2] = np.mgrid[0:CHESSBOARD_CORNER_NUM_X,0:CHESSBOARD_CORNER_NUM_Y].T.reshape(-1,2)\n",
        "\n",
        "# Arrays to store object points and image points from all the images.\n",
        "objpoints = [] # 3d point in real world space\n",
        "imgpoints = [] # 2d points in image plane.\n",
        "\n",
        "# Loop over all the images in the specified directory\n",
        "for fname in images:\n",
        "    # Load the image and convert it to grayscale\n",
        "    img = cv.imread(fname)\n",
        "    print(img)\n",
        "    gray = cv.cvtColor(img, cv.COLOR_BGR2GRAY)\n",
        "    \n",
        "    # Find the chess board corners\n",
        "    ret, corners = cv.findChessboardCorners(gray, (CHESSBOARD_CORNER_NUM_X,CHESSBOARD_CORNER_NUM_Y), None)\n",
        "    \n",
        "    # Define the corners\n",
        "    BR_corner = corners[0, 0]\n",
        "    BL_corner = corners[8, 0]\n",
        "    TR_corner = corners[45, 0]\n",
        "    TL_corner = corners[53, 0]\n",
        "    # If found, add object points, image points (after refining them)\n",
        "    if ret == True:\n",
        "        objpoints.append(objp)\n",
        "        corners2 = cv.cornerSubPix(gray,corners, (11,11), (-1,-1), criteria)\n",
        "        imgpoints.append(corners)\n",
        "\n",
        "        # Draw and display the corners\n",
        "        cv.drawChessboardCorners(img, (CHESSBOARD_CORNER_NUM_X,CHESSBOARD_CORNER_NUM_Y), corners2, ret)\n",
        "        \n",
        "        # Draw 4 outer corners\n",
        "        cv.circle(img, tuple(map(int, BR_corner)), 10, (0, 255, 0), -1)\n",
        "        cv.circle(img, tuple(map(int, BL_corner)), 10, (0, 255, 0), -1)\n",
        "        cv.circle(img, tuple(map(int, TR_corner)), 10, (0, 255, 0), -1)\n",
        "        cv.circle(img, tuple(map(int, TL_corner)), 10, (0, 255, 0), -1)\n",
        "        cv.line(img, tuple(map(int, BR_corner)), tuple(map(int, TR_corner)), (0,255,0), 1)\n",
        "        cv.line(img, tuple(map(int, BL_corner)), tuple(map(int, TL_corner)), (0,255,0), 1)\n",
        "        cv.line(img, tuple(map(int, BR_corner)), tuple(map(int, BL_corner)), (0,255,0), 1)\n",
        "        cv.line(img, tuple(map(int, TR_corner)), tuple(map(int, TL_corner)), (0,255,0), 1)\n",
        "        plt.imshow(img)\n",
        "\n",
        "    else:\n",
        "        print('Failed to find a chessboard in {}'.format(fname))"
      ]
    },
    {
      "cell_type": "markdown",
      "metadata": {
        "id": "pWbmEY2O3iLw"
      },
      "source": [
        "Convert the focal length to mm"
      ]
    },
    {
      "cell_type": "code",
      "execution_count": null,
      "metadata": {
        "id": "PAM88rLV3iLx",
        "outputId": "388fd7db-58b1-47ce-d417-00102ebe71e9"
      },
      "outputs": [],
      "source": [
        "# Return the camera matrix\n",
        "ret, camMatrix, distortionCoeff, rotationVectors, translationVectors = cv.calibrateCamera(\n",
        "    objpoints, imgpoints, gray.shape[::-1], None, None)\n",
        "\n",
        "# Displaying required output\n",
        "print(\"\\nCamera matrix:\\n\", camMatrix)\n",
        "print(\"\\nDistortion Parameters:\\n\", distortionCoeff)\n",
        "print(\"\\nRotation Vectors:\\n\", rotationVectors)\n",
        "print(\"\\nTranslation Vectors:\\n\", translationVectors)"
      ]
    },
    {
      "cell_type": "code",
      "execution_count": null,
      "metadata": {
        "id": "R2-YQSwT3iLy",
        "outputId": "687464b0-20ad-4d05-fe59-cab3dfce1907"
      },
      "outputs": [],
      "source": [
        "# Extract the focal length in pixels from the camera's intrinsic matrix\n",
        "fx_pix = int(camMatrix[0][0])\n",
        "fy_pix = int(camMatrix[1][1])\n",
        "\n",
        "# Print the focal length in pixels\n",
        "print(\"fx in pixel: \", fx_pix)\n",
        "print(\"fy in pixel: \", fy_pix)\n",
        "\n",
        "# Get the image height, image width, and number of channels\n",
        "img_h, img_w, channel = img.shape\n",
        "\n",
        "# Set the camera sensor width (in mm)\n",
        "sensor_width = 3.58\n",
        "\n",
        "# Convert the focal length from pixels to mm\n",
        "fx_mm = fx_pix * sensor_width / img_w\n",
        "fy_mm = fy_pix * sensor_width / img_w\n",
        "\n",
        "# Print the focal length in mm\n",
        "print(\"fx in mm: \", round(fx_mm,2))\n",
        "print(\"fy in mm: \", round(fy_mm,2))"
      ]
    },
    {
      "cell_type": "markdown",
      "metadata": {
        "id": "CaCNP2Am3iLz"
      },
      "source": [
        "Produce Undistorted Images"
      ]
    },
    {
      "cell_type": "code",
      "execution_count": null,
      "metadata": {
        "id": "79pnn7Sl3iLz"
      },
      "outputs": [],
      "source": [
        "# Loop through all the images in the 'images' list\n",
        "for fname in images:\n",
        "    img = cv.imread(fname)\n",
        "    gray = cv.cvtColor(img, cv.COLOR_BGR2GRAY)\n",
        "    \n",
        "    # Find the chessboard corners in the image using the findChessboardCorners function\n",
        "    ret, corners = cv.findChessboardCorners(gray, (CHESSBOARD_CORNER_NUM_X,CHESSBOARD_CORNER_NUM_Y), None)\n",
        "    \n",
        "    # If the corners are found, proceed with undistorting the image\n",
        "    if ret == True:\n",
        "        \n",
        "        # Get the height and width of the image\n",
        "        h, w = img.shape[:2]\n",
        "\n",
        "        # Calculate the optimal new camera matrix and region of interest (ROI) using the getOptimalNewCameraMatrix function\n",
        "        newCamMatrix, roi = cv.getOptimalNewCameraMatrix(camMatrix, distortionCoeff, (w,h), 1, (w,h))\n",
        "\n",
        "        # Apply the remapping to undistort the image using the initUndistortRectifyMap and remap functions\n",
        "        mapx, mapy = cv.initUndistortRectifyMap(camMatrix, distortionCoeff, None, newCamMatrix, (w, h), 5)\n",
        "        dst = cv.remap(img, mapx, mapy, cv.INTER_LINEAR)\n",
        "\n",
        "        # Save the undistorted image to a file named 'caliResult.png'\n",
        "        cv.imwrite('caliResult.png', dst)\n"
      ]
    },
    {
      "cell_type": "markdown",
      "metadata": {
        "id": "aV5XRmdI3iLz"
      },
      "source": [
        "Connect the chessboard corners"
      ]
    },
    {
      "cell_type": "code",
      "execution_count": null,
      "metadata": {
        "id": "EWEyTA0-3iL0",
        "outputId": "857eccec-3814-4372-c4ff-53408827da33"
      },
      "outputs": [],
      "source": [
        "caliImg = cv.imread('caliResult.png')\n",
        "caliGray = cv.cvtColor(caliImg, cv.COLOR_BGR2GRAY)\n",
        "\n",
        "# Find the chess board corners\n",
        "ret, corners = cv.findChessboardCorners(caliGray, (CHESSBOARD_CORNER_NUM_X,CHESSBOARD_CORNER_NUM_Y), None)\n",
        "\n",
        "# Define the corners\n",
        "BR_corner = corners[0, 0]\n",
        "BL_corner = corners[8, 0]\n",
        "TR_corner = corners[45, 0]\n",
        "TL_corner = corners[53, 0]\n",
        "\n",
        "corners2 = cv.cornerSubPix(caliGray,corners, (11,11), (-1,-1), criteria)\n",
        "# Draw and display the corners\n",
        "cv.drawChessboardCorners(caliImg, (CHESSBOARD_CORNER_NUM_X,CHESSBOARD_CORNER_NUM_Y), corners2, ret)\n",
        "# Draw 4 outer corners\n",
        "cv.circle(caliImg, tuple(map(int, BR_corner)), 10, (0, 255, 0), -1)\n",
        "cv.circle(caliImg, tuple(map(int, BL_corner)), 10, (0, 255, 0), -1)\n",
        "cv.circle(caliImg, tuple(map(int, TR_corner)), 10, (0, 255, 0), -1)\n",
        "cv.circle(caliImg, tuple(map(int, TL_corner)), 10, (0, 255, 0), -1)\n",
        "\n",
        "\n",
        "cv.line(caliImg, tuple(map(int, BR_corner)), tuple(map(int, TR_corner)), (0,255,0), 1)\n",
        "cv.line(caliImg, tuple(map(int, BL_corner)), tuple(map(int, TL_corner)), (0,255,0), 1)\n",
        "cv.line(caliImg, tuple(map(int, BR_corner)), tuple(map(int, BL_corner)), (0,255,0), 1)\n",
        "cv.line(caliImg, tuple(map(int, TR_corner)), tuple(map(int, TL_corner)), (0,255,0), 1)      \n",
        "plt.imshow(caliImg)"
      ]
    },
    {
      "cell_type": "code",
      "execution_count": null,
      "metadata": {
        "id": "b9o4IdtS3iL1",
        "outputId": "21418259-49a3-4799-be95-32cab4b1271a"
      },
      "outputs": [],
      "source": [
        "plt.figure(figsize = [18, 10])\n",
        "plt.subplot(1,2,1); plt.imshow(img); plt.title(\"Distorted\"); plt.axis('off')\n",
        "plt.subplot(1,2,2); plt.imshow(caliImg); plt.title(\"Undistorted\"); plt.axis('off')"
      ]
    }
  ],
  "metadata": {
    "colab": {
      "provenance": []
    },
    "kernelspec": {
      "display_name": "Python 3 (ipykernel)",
      "language": "python",
      "name": "python3"
    },
    "language_info": {
      "codemirror_mode": {
        "name": "ipython",
        "version": 3
      },
      "file_extension": ".py",
      "mimetype": "text/x-python",
      "name": "python",
      "nbconvert_exporter": "python",
      "pygments_lexer": "ipython3",
      "version": "3.10.11"
    },
    "vscode": {
      "interpreter": {
        "hash": "504d8b80d4a91f602d59ab676a9242338f7efdcc99a28e282f9362b84e4bca94"
      }
    }
  },
  "nbformat": 4,
  "nbformat_minor": 0
}
